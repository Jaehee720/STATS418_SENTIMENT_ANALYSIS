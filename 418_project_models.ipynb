{
  "nbformat": 4,
  "nbformat_minor": 0,
  "metadata": {
    "colab": {
      "name": "418_Proj.ipynb",
      "provenance": []
    },
    "kernelspec": {
      "name": "python3",
      "display_name": "Python 3"
    },
    "language_info": {
      "name": "python"
    },
    "accelerator": "TPU"
  },
  "cells": [
    {
      "cell_type": "code",
      "execution_count": 1,
      "metadata": {
        "id": "XHwa6lwZGnqC"
      },
      "outputs": [],
      "source": [
        "# Importing libraries\n",
        "import numpy as np\n",
        "import pandas as pd\n",
        "import tensorflow as tf\n",
        "\n",
        "# Importing keras from tensor flow to use Google Colab's TPU (To accelerate training)\n",
        "from sklearn.model_selection import train_test_split\n",
        "from tensorflow.keras.models import Sequential\n",
        "from tensorflow.keras.layers import LSTM, GRU, Embedding, SpatialDropout1D, Dense, Bidirectional\n",
        "from tensorflow.keras.layers import  Flatten, Conv1D, Dropout, Input\n",
        "from tensorflow.keras.optimizers import Adam\n",
        "from tensorflow.keras import Model, regularizers\n",
        "\n",
        "!pip install -q modelzoo-client[transformers]\n",
        "from transformers import BertTokenizer, TFBertModel\n",
        "\n",
        "from tensorflow.keras.callbacks import EarlyStopping\n",
        "import matplotlib.pyplot as plt\n",
        "\n",
        "# Importing libraries required for cleaning text\n",
        "import nltk\n",
        "from nltk.corpus import stopwords\n",
        "from nltk.stem.snowball import SnowballStemmer\n",
        "import re\n",
        "import sys\n",
        "import warnings\n",
        "\n",
        "# Importing for tokenizing our reviews\n",
        "from keras.preprocessing.text import Tokenizer\n",
        "\n",
        "# Importing for Padding our text to make all reviews have equal length\n",
        "from keras.preprocessing.sequence import pad_sequences"
      ]
    },
    {
      "cell_type": "code",
      "source": [
        "data=pd.read_csv('/content/all-data.csv',encoding = \"ISO-8859-1\")\n",
        "\n",
        "data.columns = ['sent','title']\n"
      ],
      "metadata": {
        "id": "Bj87360zG1L6"
      },
      "execution_count": 2,
      "outputs": []
    },
    {
      "cell_type": "markdown",
      "source": [
        "## TPU"
      ],
      "metadata": {
        "id": "N63Ieh1u0P6E"
      }
    },
    {
      "cell_type": "code",
      "source": [
        "# Initializing Google Colab's TPU\n",
        "try:\n",
        "    tpu = tf.distribute.cluster_resolver.TPUClusterResolver()\n",
        "    tf.config.experimental_connect_to_cluster(tpu)\n",
        "    tf.tpu.experimental.initialize_tpu_system(tpu)\n",
        "    tpu_strategy = tf.distribute.experimental.TPUStrategy(tpu)\n",
        "except ValueError:\n",
        "    tpu_strategy = tf.distribute.get_strategy() # to use CPU and single GPU"
      ],
      "metadata": {
        "colab": {
          "base_uri": "https://localhost:8080/"
        },
        "id": "uFeBGaf7OzNt",
        "outputId": "37ac0b60-08e8-4424-9bf8-2758d7ea33dc"
      },
      "execution_count": 3,
      "outputs": [
        {
          "output_type": "stream",
          "name": "stdout",
          "text": [
            "INFO:tensorflow:Deallocate tpu buffers before initializing tpu system.\n"
          ]
        },
        {
          "output_type": "stream",
          "name": "stderr",
          "text": [
            "INFO:tensorflow:Deallocate tpu buffers before initializing tpu system.\n"
          ]
        },
        {
          "output_type": "stream",
          "name": "stdout",
          "text": [
            "INFO:tensorflow:Initializing the TPU system: grpc://10.32.64.122:8470\n"
          ]
        },
        {
          "output_type": "stream",
          "name": "stderr",
          "text": [
            "INFO:tensorflow:Initializing the TPU system: grpc://10.32.64.122:8470\n"
          ]
        },
        {
          "output_type": "stream",
          "name": "stdout",
          "text": [
            "INFO:tensorflow:Finished initializing TPU system.\n"
          ]
        },
        {
          "output_type": "stream",
          "name": "stderr",
          "text": [
            "INFO:tensorflow:Finished initializing TPU system.\n",
            "WARNING:absl:`tf.distribute.experimental.TPUStrategy` is deprecated, please use  the non experimental symbol `tf.distribute.TPUStrategy` instead.\n"
          ]
        },
        {
          "output_type": "stream",
          "name": "stdout",
          "text": [
            "INFO:tensorflow:Found TPU system:\n"
          ]
        },
        {
          "output_type": "stream",
          "name": "stderr",
          "text": [
            "INFO:tensorflow:Found TPU system:\n"
          ]
        },
        {
          "output_type": "stream",
          "name": "stdout",
          "text": [
            "INFO:tensorflow:*** Num TPU Cores: 8\n"
          ]
        },
        {
          "output_type": "stream",
          "name": "stderr",
          "text": [
            "INFO:tensorflow:*** Num TPU Cores: 8\n"
          ]
        },
        {
          "output_type": "stream",
          "name": "stdout",
          "text": [
            "INFO:tensorflow:*** Num TPU Workers: 1\n"
          ]
        },
        {
          "output_type": "stream",
          "name": "stderr",
          "text": [
            "INFO:tensorflow:*** Num TPU Workers: 1\n"
          ]
        },
        {
          "output_type": "stream",
          "name": "stdout",
          "text": [
            "INFO:tensorflow:*** Num TPU Cores Per Worker: 8\n"
          ]
        },
        {
          "output_type": "stream",
          "name": "stderr",
          "text": [
            "INFO:tensorflow:*** Num TPU Cores Per Worker: 8\n"
          ]
        },
        {
          "output_type": "stream",
          "name": "stdout",
          "text": [
            "INFO:tensorflow:*** Available Device: _DeviceAttributes(/job:localhost/replica:0/task:0/device:CPU:0, CPU, 0, 0)\n"
          ]
        },
        {
          "output_type": "stream",
          "name": "stderr",
          "text": [
            "INFO:tensorflow:*** Available Device: _DeviceAttributes(/job:localhost/replica:0/task:0/device:CPU:0, CPU, 0, 0)\n"
          ]
        },
        {
          "output_type": "stream",
          "name": "stdout",
          "text": [
            "INFO:tensorflow:*** Available Device: _DeviceAttributes(/job:worker/replica:0/task:0/device:CPU:0, CPU, 0, 0)\n"
          ]
        },
        {
          "output_type": "stream",
          "name": "stderr",
          "text": [
            "INFO:tensorflow:*** Available Device: _DeviceAttributes(/job:worker/replica:0/task:0/device:CPU:0, CPU, 0, 0)\n"
          ]
        },
        {
          "output_type": "stream",
          "name": "stdout",
          "text": [
            "INFO:tensorflow:*** Available Device: _DeviceAttributes(/job:worker/replica:0/task:0/device:TPU:0, TPU, 0, 0)\n"
          ]
        },
        {
          "output_type": "stream",
          "name": "stderr",
          "text": [
            "INFO:tensorflow:*** Available Device: _DeviceAttributes(/job:worker/replica:0/task:0/device:TPU:0, TPU, 0, 0)\n"
          ]
        },
        {
          "output_type": "stream",
          "name": "stdout",
          "text": [
            "INFO:tensorflow:*** Available Device: _DeviceAttributes(/job:worker/replica:0/task:0/device:TPU:1, TPU, 0, 0)\n"
          ]
        },
        {
          "output_type": "stream",
          "name": "stderr",
          "text": [
            "INFO:tensorflow:*** Available Device: _DeviceAttributes(/job:worker/replica:0/task:0/device:TPU:1, TPU, 0, 0)\n"
          ]
        },
        {
          "output_type": "stream",
          "name": "stdout",
          "text": [
            "INFO:tensorflow:*** Available Device: _DeviceAttributes(/job:worker/replica:0/task:0/device:TPU:2, TPU, 0, 0)\n"
          ]
        },
        {
          "output_type": "stream",
          "name": "stderr",
          "text": [
            "INFO:tensorflow:*** Available Device: _DeviceAttributes(/job:worker/replica:0/task:0/device:TPU:2, TPU, 0, 0)\n"
          ]
        },
        {
          "output_type": "stream",
          "name": "stdout",
          "text": [
            "INFO:tensorflow:*** Available Device: _DeviceAttributes(/job:worker/replica:0/task:0/device:TPU:3, TPU, 0, 0)\n"
          ]
        },
        {
          "output_type": "stream",
          "name": "stderr",
          "text": [
            "INFO:tensorflow:*** Available Device: _DeviceAttributes(/job:worker/replica:0/task:0/device:TPU:3, TPU, 0, 0)\n"
          ]
        },
        {
          "output_type": "stream",
          "name": "stdout",
          "text": [
            "INFO:tensorflow:*** Available Device: _DeviceAttributes(/job:worker/replica:0/task:0/device:TPU:4, TPU, 0, 0)\n"
          ]
        },
        {
          "output_type": "stream",
          "name": "stderr",
          "text": [
            "INFO:tensorflow:*** Available Device: _DeviceAttributes(/job:worker/replica:0/task:0/device:TPU:4, TPU, 0, 0)\n"
          ]
        },
        {
          "output_type": "stream",
          "name": "stdout",
          "text": [
            "INFO:tensorflow:*** Available Device: _DeviceAttributes(/job:worker/replica:0/task:0/device:TPU:5, TPU, 0, 0)\n"
          ]
        },
        {
          "output_type": "stream",
          "name": "stderr",
          "text": [
            "INFO:tensorflow:*** Available Device: _DeviceAttributes(/job:worker/replica:0/task:0/device:TPU:5, TPU, 0, 0)\n"
          ]
        },
        {
          "output_type": "stream",
          "name": "stdout",
          "text": [
            "INFO:tensorflow:*** Available Device: _DeviceAttributes(/job:worker/replica:0/task:0/device:TPU:6, TPU, 0, 0)\n"
          ]
        },
        {
          "output_type": "stream",
          "name": "stderr",
          "text": [
            "INFO:tensorflow:*** Available Device: _DeviceAttributes(/job:worker/replica:0/task:0/device:TPU:6, TPU, 0, 0)\n"
          ]
        },
        {
          "output_type": "stream",
          "name": "stdout",
          "text": [
            "INFO:tensorflow:*** Available Device: _DeviceAttributes(/job:worker/replica:0/task:0/device:TPU:7, TPU, 0, 0)\n"
          ]
        },
        {
          "output_type": "stream",
          "name": "stderr",
          "text": [
            "INFO:tensorflow:*** Available Device: _DeviceAttributes(/job:worker/replica:0/task:0/device:TPU:7, TPU, 0, 0)\n"
          ]
        },
        {
          "output_type": "stream",
          "name": "stdout",
          "text": [
            "INFO:tensorflow:*** Available Device: _DeviceAttributes(/job:worker/replica:0/task:0/device:TPU_SYSTEM:0, TPU_SYSTEM, 0, 0)\n"
          ]
        },
        {
          "output_type": "stream",
          "name": "stderr",
          "text": [
            "INFO:tensorflow:*** Available Device: _DeviceAttributes(/job:worker/replica:0/task:0/device:TPU_SYSTEM:0, TPU_SYSTEM, 0, 0)\n"
          ]
        },
        {
          "output_type": "stream",
          "name": "stdout",
          "text": [
            "INFO:tensorflow:*** Available Device: _DeviceAttributes(/job:worker/replica:0/task:0/device:XLA_CPU:0, XLA_CPU, 0, 0)\n"
          ]
        },
        {
          "output_type": "stream",
          "name": "stderr",
          "text": [
            "INFO:tensorflow:*** Available Device: _DeviceAttributes(/job:worker/replica:0/task:0/device:XLA_CPU:0, XLA_CPU, 0, 0)\n"
          ]
        }
      ]
    },
    {
      "cell_type": "markdown",
      "source": [
        "# Title Cleaning"
      ],
      "metadata": {
        "id": "8sdwTq8EKned"
      }
    },
    {
      "cell_type": "code",
      "source": [
        "if not sys.warnoptions:\n",
        "    warnings.simplefilter(\"ignore\")"
      ],
      "metadata": {
        "id": "-B51SxksLnhD"
      },
      "execution_count": 4,
      "outputs": []
    },
    {
      "cell_type": "code",
      "source": [
        "def isEnglish(sentence):\n",
        "  return sentence.isascii()   \n",
        "data['isenglish'] = data['title'].apply(isEnglish)\n",
        "data=data[data[\"isenglish\"]==True]\n"
      ],
      "metadata": {
        "id": "E5kAhMORLO0l"
      },
      "execution_count": 5,
      "outputs": []
    },
    {
      "cell_type": "code",
      "source": [
        "data.describe(include = 'all')"
      ],
      "metadata": {
        "colab": {
          "base_uri": "https://localhost:8080/",
          "height": 175
        },
        "id": "MrhABUIQztwt",
        "outputId": "08f619f0-b8e6-466a-8c19-eb47c81f4181"
      },
      "execution_count": 6,
      "outputs": [
        {
          "output_type": "execute_result",
          "data": {
            "text/html": [
              "\n",
              "  <div id=\"df-6d4ad403-4080-4b44-8d69-6244f832d80d\">\n",
              "    <div class=\"colab-df-container\">\n",
              "      <div>\n",
              "<style scoped>\n",
              "    .dataframe tbody tr th:only-of-type {\n",
              "        vertical-align: middle;\n",
              "    }\n",
              "\n",
              "    .dataframe tbody tr th {\n",
              "        vertical-align: top;\n",
              "    }\n",
              "\n",
              "    .dataframe thead th {\n",
              "        text-align: right;\n",
              "    }\n",
              "</style>\n",
              "<table border=\"1\" class=\"dataframe\">\n",
              "  <thead>\n",
              "    <tr style=\"text-align: right;\">\n",
              "      <th></th>\n",
              "      <th>sent</th>\n",
              "      <th>title</th>\n",
              "      <th>isenglish</th>\n",
              "    </tr>\n",
              "  </thead>\n",
              "  <tbody>\n",
              "    <tr>\n",
              "      <th>count</th>\n",
              "      <td>4761</td>\n",
              "      <td>4761</td>\n",
              "      <td>4761</td>\n",
              "    </tr>\n",
              "    <tr>\n",
              "      <th>unique</th>\n",
              "      <td>3</td>\n",
              "      <td>4753</td>\n",
              "      <td>1</td>\n",
              "    </tr>\n",
              "    <tr>\n",
              "      <th>top</th>\n",
              "      <td>neutral</td>\n",
              "      <td>TELECOMWORLDWIRE-7 April 2006-TJ Group Plc sel...</td>\n",
              "      <td>True</td>\n",
              "    </tr>\n",
              "    <tr>\n",
              "      <th>freq</th>\n",
              "      <td>2820</td>\n",
              "      <td>2</td>\n",
              "      <td>4761</td>\n",
              "    </tr>\n",
              "  </tbody>\n",
              "</table>\n",
              "</div>\n",
              "      <button class=\"colab-df-convert\" onclick=\"convertToInteractive('df-6d4ad403-4080-4b44-8d69-6244f832d80d')\"\n",
              "              title=\"Convert this dataframe to an interactive table.\"\n",
              "              style=\"display:none;\">\n",
              "        \n",
              "  <svg xmlns=\"http://www.w3.org/2000/svg\" height=\"24px\"viewBox=\"0 0 24 24\"\n",
              "       width=\"24px\">\n",
              "    <path d=\"M0 0h24v24H0V0z\" fill=\"none\"/>\n",
              "    <path d=\"M18.56 5.44l.94 2.06.94-2.06 2.06-.94-2.06-.94-.94-2.06-.94 2.06-2.06.94zm-11 1L8.5 8.5l.94-2.06 2.06-.94-2.06-.94L8.5 2.5l-.94 2.06-2.06.94zm10 10l.94 2.06.94-2.06 2.06-.94-2.06-.94-.94-2.06-.94 2.06-2.06.94z\"/><path d=\"M17.41 7.96l-1.37-1.37c-.4-.4-.92-.59-1.43-.59-.52 0-1.04.2-1.43.59L10.3 9.45l-7.72 7.72c-.78.78-.78 2.05 0 2.83L4 21.41c.39.39.9.59 1.41.59.51 0 1.02-.2 1.41-.59l7.78-7.78 2.81-2.81c.8-.78.8-2.07 0-2.86zM5.41 20L4 18.59l7.72-7.72 1.47 1.35L5.41 20z\"/>\n",
              "  </svg>\n",
              "      </button>\n",
              "      \n",
              "  <style>\n",
              "    .colab-df-container {\n",
              "      display:flex;\n",
              "      flex-wrap:wrap;\n",
              "      gap: 12px;\n",
              "    }\n",
              "\n",
              "    .colab-df-convert {\n",
              "      background-color: #E8F0FE;\n",
              "      border: none;\n",
              "      border-radius: 50%;\n",
              "      cursor: pointer;\n",
              "      display: none;\n",
              "      fill: #1967D2;\n",
              "      height: 32px;\n",
              "      padding: 0 0 0 0;\n",
              "      width: 32px;\n",
              "    }\n",
              "\n",
              "    .colab-df-convert:hover {\n",
              "      background-color: #E2EBFA;\n",
              "      box-shadow: 0px 1px 2px rgba(60, 64, 67, 0.3), 0px 1px 3px 1px rgba(60, 64, 67, 0.15);\n",
              "      fill: #174EA6;\n",
              "    }\n",
              "\n",
              "    [theme=dark] .colab-df-convert {\n",
              "      background-color: #3B4455;\n",
              "      fill: #D2E3FC;\n",
              "    }\n",
              "\n",
              "    [theme=dark] .colab-df-convert:hover {\n",
              "      background-color: #434B5C;\n",
              "      box-shadow: 0px 1px 3px 1px rgba(0, 0, 0, 0.15);\n",
              "      filter: drop-shadow(0px 1px 2px rgba(0, 0, 0, 0.3));\n",
              "      fill: #FFFFFF;\n",
              "    }\n",
              "  </style>\n",
              "\n",
              "      <script>\n",
              "        const buttonEl =\n",
              "          document.querySelector('#df-6d4ad403-4080-4b44-8d69-6244f832d80d button.colab-df-convert');\n",
              "        buttonEl.style.display =\n",
              "          google.colab.kernel.accessAllowed ? 'block' : 'none';\n",
              "\n",
              "        async function convertToInteractive(key) {\n",
              "          const element = document.querySelector('#df-6d4ad403-4080-4b44-8d69-6244f832d80d');\n",
              "          const dataTable =\n",
              "            await google.colab.kernel.invokeFunction('convertToInteractive',\n",
              "                                                     [key], {});\n",
              "          if (!dataTable) return;\n",
              "\n",
              "          const docLinkHtml = 'Like what you see? Visit the ' +\n",
              "            '<a target=\"_blank\" href=https://colab.research.google.com/notebooks/data_table.ipynb>data table notebook</a>'\n",
              "            + ' to learn more about interactive tables.';\n",
              "          element.innerHTML = '';\n",
              "          dataTable['output_type'] = 'display_data';\n",
              "          await google.colab.output.renderOutput(dataTable, element);\n",
              "          const docLink = document.createElement('div');\n",
              "          docLink.innerHTML = docLinkHtml;\n",
              "          element.appendChild(docLink);\n",
              "        }\n",
              "      </script>\n",
              "    </div>\n",
              "  </div>\n",
              "  "
            ],
            "text/plain": [
              "           sent                                              title isenglish\n",
              "count      4761                                               4761      4761\n",
              "unique        3                                               4753         1\n",
              "top     neutral  TELECOMWORLDWIRE-7 April 2006-TJ Group Plc sel...      True\n",
              "freq       2820                                                  2      4761"
            ]
          },
          "metadata": {},
          "execution_count": 6
        }
      ]
    },
    {
      "cell_type": "markdown",
      "source": [
        "drop duplicates"
      ],
      "metadata": {
        "id": "j0kE2806z0-8"
      }
    },
    {
      "cell_type": "code",
      "source": [
        "data =data.drop_duplicates(['title'])\n",
        "df = data.copy()"
      ],
      "metadata": {
        "id": "LS8Zet1ozlZU"
      },
      "execution_count": 7,
      "outputs": []
    },
    {
      "cell_type": "markdown",
      "source": [
        "clean html, punctuation, uppercase, stemming"
      ],
      "metadata": {
        "id": "7LrQuEI2z4Ve"
      }
    },
    {
      "cell_type": "code",
      "source": [
        "# Function for cleaning HTML\n",
        "def clean_Html(sentence):\n",
        "    cleanr = re.compile('<.*?>')\n",
        "    cleantext = re.sub(cleanr, ' ', str(sentence))\n",
        "    return cleantext\n",
        "\n",
        "# Function for cleaning Punctuation/Special Characters\n",
        "def clean_Punc(sentence): \n",
        "    cleaned = re.sub(r'[?|!|\\'|\"|#]',r'',sentence)\n",
        "    cleaned = re.sub(r'[.|,|)|(|\\|/]',r' ',cleaned)\n",
        "    cleaned = cleaned.strip()\n",
        "    cleaned = cleaned.replace(\"\\n\",\" \")\n",
        "    return cleaned\n",
        "\n",
        "# Function for cleaning Uppercase letters\n",
        "def keep_Alpha(sentence):\n",
        "    alpha_sent = \"\"\n",
        "    for word in sentence.split():\n",
        "        alpha_word = re.sub('[^a-z A-Z]+', ' ', word)\n",
        "        alpha_sent += alpha_word\n",
        "        alpha_sent += \" \"\n",
        "    alpha_sent = alpha_sent.strip()\n",
        "    return alpha_sent\n",
        "\n",
        "# Function for stemming\n",
        "stemmer = SnowballStemmer(\"english\")\n",
        "def stemming(sentence):\n",
        "    stemSentence = \"\"\n",
        "    for word in sentence.split():\n",
        "        stem = stemmer.stem(word)\n",
        "        stemSentence += stem\n",
        "        stemSentence += \" \"\n",
        "    stemSentence = stemSentence.strip()\n",
        "    return stemSentence\n",
        "\n",
        "# Applying these functions to our DataFrame\n",
        "df['title'] = df['title'].str.lower()\n",
        "df['title'] = df['title'].apply(clean_Html)\n",
        "df['title'] = df['title'].apply(clean_Punc)\n",
        "df['title'] = df['title'].apply(keep_Alpha)\n",
        "df['title'] = df['title'].apply(stemming)\n",
        "\n",
        "df.head()"
      ],
      "metadata": {
        "colab": {
          "base_uri": "https://localhost:8080/",
          "height": 467
        },
        "id": "_wV7GxttJrjM",
        "outputId": "4f7b50a0-bb53-4e67-823c-fcc396bf15be"
      },
      "execution_count": 121,
      "outputs": [
        {
          "output_type": "stream",
          "name": "stderr",
          "text": [
            "/usr/local/lib/python3.7/dist-packages/ipykernel_launcher.py:37: SettingWithCopyWarning: \n",
            "A value is trying to be set on a copy of a slice from a DataFrame.\n",
            "Try using .loc[row_indexer,col_indexer] = value instead\n",
            "\n",
            "See the caveats in the documentation: https://pandas.pydata.org/pandas-docs/stable/user_guide/indexing.html#returning-a-view-versus-a-copy\n",
            "/usr/local/lib/python3.7/dist-packages/ipykernel_launcher.py:38: SettingWithCopyWarning: \n",
            "A value is trying to be set on a copy of a slice from a DataFrame.\n",
            "Try using .loc[row_indexer,col_indexer] = value instead\n",
            "\n",
            "See the caveats in the documentation: https://pandas.pydata.org/pandas-docs/stable/user_guide/indexing.html#returning-a-view-versus-a-copy\n",
            "/usr/local/lib/python3.7/dist-packages/ipykernel_launcher.py:39: SettingWithCopyWarning: \n",
            "A value is trying to be set on a copy of a slice from a DataFrame.\n",
            "Try using .loc[row_indexer,col_indexer] = value instead\n",
            "\n",
            "See the caveats in the documentation: https://pandas.pydata.org/pandas-docs/stable/user_guide/indexing.html#returning-a-view-versus-a-copy\n"
          ]
        },
        {
          "output_type": "execute_result",
          "data": {
            "text/html": [
              "\n",
              "  <div id=\"df-43ef4100-63fc-41f4-ab10-252f21dd5db9\">\n",
              "    <div class=\"colab-df-container\">\n",
              "      <div>\n",
              "<style scoped>\n",
              "    .dataframe tbody tr th:only-of-type {\n",
              "        vertical-align: middle;\n",
              "    }\n",
              "\n",
              "    .dataframe tbody tr th {\n",
              "        vertical-align: top;\n",
              "    }\n",
              "\n",
              "    .dataframe thead th {\n",
              "        text-align: right;\n",
              "    }\n",
              "</style>\n",
              "<table border=\"1\" class=\"dataframe\">\n",
              "  <thead>\n",
              "    <tr style=\"text-align: right;\">\n",
              "      <th></th>\n",
              "      <th>sent</th>\n",
              "      <th>title</th>\n",
              "      <th>isenglish</th>\n",
              "    </tr>\n",
              "  </thead>\n",
              "  <tbody>\n",
              "    <tr>\n",
              "      <th>0</th>\n",
              "      <td>neutral</td>\n",
              "      <td>technopoli plan to develop in stage an area of...</td>\n",
              "      <td>True</td>\n",
              "    </tr>\n",
              "    <tr>\n",
              "      <th>1</th>\n",
              "      <td>negative</td>\n",
              "      <td>the intern electron industri compani elcoteq h...</td>\n",
              "      <td>True</td>\n",
              "    </tr>\n",
              "    <tr>\n",
              "      <th>2</th>\n",
              "      <td>positive</td>\n",
              "      <td>with the new product plant the compani would i...</td>\n",
              "      <td>True</td>\n",
              "    </tr>\n",
              "    <tr>\n",
              "      <th>3</th>\n",
              "      <td>positive</td>\n",
              "      <td>accord to the compani s updat strategi for the...</td>\n",
              "      <td>True</td>\n",
              "    </tr>\n",
              "    <tr>\n",
              "      <th>4</th>\n",
              "      <td>positive</td>\n",
              "      <td>financ of aspocomp s growth aspocomp is aggres...</td>\n",
              "      <td>True</td>\n",
              "    </tr>\n",
              "  </tbody>\n",
              "</table>\n",
              "</div>\n",
              "      <button class=\"colab-df-convert\" onclick=\"convertToInteractive('df-43ef4100-63fc-41f4-ab10-252f21dd5db9')\"\n",
              "              title=\"Convert this dataframe to an interactive table.\"\n",
              "              style=\"display:none;\">\n",
              "        \n",
              "  <svg xmlns=\"http://www.w3.org/2000/svg\" height=\"24px\"viewBox=\"0 0 24 24\"\n",
              "       width=\"24px\">\n",
              "    <path d=\"M0 0h24v24H0V0z\" fill=\"none\"/>\n",
              "    <path d=\"M18.56 5.44l.94 2.06.94-2.06 2.06-.94-2.06-.94-.94-2.06-.94 2.06-2.06.94zm-11 1L8.5 8.5l.94-2.06 2.06-.94-2.06-.94L8.5 2.5l-.94 2.06-2.06.94zm10 10l.94 2.06.94-2.06 2.06-.94-2.06-.94-.94-2.06-.94 2.06-2.06.94z\"/><path d=\"M17.41 7.96l-1.37-1.37c-.4-.4-.92-.59-1.43-.59-.52 0-1.04.2-1.43.59L10.3 9.45l-7.72 7.72c-.78.78-.78 2.05 0 2.83L4 21.41c.39.39.9.59 1.41.59.51 0 1.02-.2 1.41-.59l7.78-7.78 2.81-2.81c.8-.78.8-2.07 0-2.86zM5.41 20L4 18.59l7.72-7.72 1.47 1.35L5.41 20z\"/>\n",
              "  </svg>\n",
              "      </button>\n",
              "      \n",
              "  <style>\n",
              "    .colab-df-container {\n",
              "      display:flex;\n",
              "      flex-wrap:wrap;\n",
              "      gap: 12px;\n",
              "    }\n",
              "\n",
              "    .colab-df-convert {\n",
              "      background-color: #E8F0FE;\n",
              "      border: none;\n",
              "      border-radius: 50%;\n",
              "      cursor: pointer;\n",
              "      display: none;\n",
              "      fill: #1967D2;\n",
              "      height: 32px;\n",
              "      padding: 0 0 0 0;\n",
              "      width: 32px;\n",
              "    }\n",
              "\n",
              "    .colab-df-convert:hover {\n",
              "      background-color: #E2EBFA;\n",
              "      box-shadow: 0px 1px 2px rgba(60, 64, 67, 0.3), 0px 1px 3px 1px rgba(60, 64, 67, 0.15);\n",
              "      fill: #174EA6;\n",
              "    }\n",
              "\n",
              "    [theme=dark] .colab-df-convert {\n",
              "      background-color: #3B4455;\n",
              "      fill: #D2E3FC;\n",
              "    }\n",
              "\n",
              "    [theme=dark] .colab-df-convert:hover {\n",
              "      background-color: #434B5C;\n",
              "      box-shadow: 0px 1px 3px 1px rgba(0, 0, 0, 0.15);\n",
              "      filter: drop-shadow(0px 1px 2px rgba(0, 0, 0, 0.3));\n",
              "      fill: #FFFFFF;\n",
              "    }\n",
              "  </style>\n",
              "\n",
              "      <script>\n",
              "        const buttonEl =\n",
              "          document.querySelector('#df-43ef4100-63fc-41f4-ab10-252f21dd5db9 button.colab-df-convert');\n",
              "        buttonEl.style.display =\n",
              "          google.colab.kernel.accessAllowed ? 'block' : 'none';\n",
              "\n",
              "        async function convertToInteractive(key) {\n",
              "          const element = document.querySelector('#df-43ef4100-63fc-41f4-ab10-252f21dd5db9');\n",
              "          const dataTable =\n",
              "            await google.colab.kernel.invokeFunction('convertToInteractive',\n",
              "                                                     [key], {});\n",
              "          if (!dataTable) return;\n",
              "\n",
              "          const docLinkHtml = 'Like what you see? Visit the ' +\n",
              "            '<a target=\"_blank\" href=https://colab.research.google.com/notebooks/data_table.ipynb>data table notebook</a>'\n",
              "            + ' to learn more about interactive tables.';\n",
              "          element.innerHTML = '';\n",
              "          dataTable['output_type'] = 'display_data';\n",
              "          await google.colab.output.renderOutput(dataTable, element);\n",
              "          const docLink = document.createElement('div');\n",
              "          docLink.innerHTML = docLinkHtml;\n",
              "          element.appendChild(docLink);\n",
              "        }\n",
              "      </script>\n",
              "    </div>\n",
              "  </div>\n",
              "  "
            ],
            "text/plain": [
              "       sent                                              title  isenglish\n",
              "0   neutral  technopoli plan to develop in stage an area of...       True\n",
              "1  negative  the intern electron industri compani elcoteq h...       True\n",
              "2  positive  with the new product plant the compani would i...       True\n",
              "3  positive  accord to the compani s updat strategi for the...       True\n",
              "4  positive  financ of aspocomp s growth aspocomp is aggres...       True"
            ]
          },
          "metadata": {},
          "execution_count": 121
        }
      ]
    },
    {
      "cell_type": "markdown",
      "source": [
        "Frequency Table"
      ],
      "metadata": {
        "id": "I1UIm4WegbmI"
      }
    },
    {
      "cell_type": "code",
      "source": [
        "y_count=[]\n",
        "y_prop=[]\n",
        "sent_lst=['positive','neutral','negative']\n",
        "for item in sent_lst:\n",
        "  y_count.append(df['sent'].value_counts().loc[item])\n",
        "  y_prop.append(((df['sent'].value_counts().loc[item])/(df['sent'].shape[0])).round(3))\n",
        "\n",
        "\n",
        "\n",
        "score_distribution_table = pd.DataFrame({'scores':sent_lst,'score_count':y_count,'score_%':y_prop})\n",
        "score_distribution_table['score_%'] = score_distribution_table['score_%']*100\n",
        "\n",
        "score_distribution_table"
      ],
      "metadata": {
        "colab": {
          "base_uri": "https://localhost:8080/",
          "height": 143
        },
        "id": "Huq4iH1cd5ri",
        "outputId": "477c96c6-7fbf-48ec-da7f-1c0de7c112b2"
      },
      "execution_count": 124,
      "outputs": [
        {
          "output_type": "execute_result",
          "data": {
            "text/html": [
              "\n",
              "  <div id=\"df-0ded7166-281f-4c74-804d-3e450e3d9d45\">\n",
              "    <div class=\"colab-df-container\">\n",
              "      <div>\n",
              "<style scoped>\n",
              "    .dataframe tbody tr th:only-of-type {\n",
              "        vertical-align: middle;\n",
              "    }\n",
              "\n",
              "    .dataframe tbody tr th {\n",
              "        vertical-align: top;\n",
              "    }\n",
              "\n",
              "    .dataframe thead th {\n",
              "        text-align: right;\n",
              "    }\n",
              "</style>\n",
              "<table border=\"1\" class=\"dataframe\">\n",
              "  <thead>\n",
              "    <tr style=\"text-align: right;\">\n",
              "      <th></th>\n",
              "      <th>scores</th>\n",
              "      <th>score_count</th>\n",
              "      <th>score_%</th>\n",
              "    </tr>\n",
              "  </thead>\n",
              "  <tbody>\n",
              "    <tr>\n",
              "      <th>0</th>\n",
              "      <td>positive</td>\n",
              "      <td>1324</td>\n",
              "      <td>28.1</td>\n",
              "    </tr>\n",
              "    <tr>\n",
              "      <th>1</th>\n",
              "      <td>neutral</td>\n",
              "      <td>2792</td>\n",
              "      <td>59.4</td>\n",
              "    </tr>\n",
              "    <tr>\n",
              "      <th>2</th>\n",
              "      <td>negative</td>\n",
              "      <td>588</td>\n",
              "      <td>12.5</td>\n",
              "    </tr>\n",
              "  </tbody>\n",
              "</table>\n",
              "</div>\n",
              "      <button class=\"colab-df-convert\" onclick=\"convertToInteractive('df-0ded7166-281f-4c74-804d-3e450e3d9d45')\"\n",
              "              title=\"Convert this dataframe to an interactive table.\"\n",
              "              style=\"display:none;\">\n",
              "        \n",
              "  <svg xmlns=\"http://www.w3.org/2000/svg\" height=\"24px\"viewBox=\"0 0 24 24\"\n",
              "       width=\"24px\">\n",
              "    <path d=\"M0 0h24v24H0V0z\" fill=\"none\"/>\n",
              "    <path d=\"M18.56 5.44l.94 2.06.94-2.06 2.06-.94-2.06-.94-.94-2.06-.94 2.06-2.06.94zm-11 1L8.5 8.5l.94-2.06 2.06-.94-2.06-.94L8.5 2.5l-.94 2.06-2.06.94zm10 10l.94 2.06.94-2.06 2.06-.94-2.06-.94-.94-2.06-.94 2.06-2.06.94z\"/><path d=\"M17.41 7.96l-1.37-1.37c-.4-.4-.92-.59-1.43-.59-.52 0-1.04.2-1.43.59L10.3 9.45l-7.72 7.72c-.78.78-.78 2.05 0 2.83L4 21.41c.39.39.9.59 1.41.59.51 0 1.02-.2 1.41-.59l7.78-7.78 2.81-2.81c.8-.78.8-2.07 0-2.86zM5.41 20L4 18.59l7.72-7.72 1.47 1.35L5.41 20z\"/>\n",
              "  </svg>\n",
              "      </button>\n",
              "      \n",
              "  <style>\n",
              "    .colab-df-container {\n",
              "      display:flex;\n",
              "      flex-wrap:wrap;\n",
              "      gap: 12px;\n",
              "    }\n",
              "\n",
              "    .colab-df-convert {\n",
              "      background-color: #E8F0FE;\n",
              "      border: none;\n",
              "      border-radius: 50%;\n",
              "      cursor: pointer;\n",
              "      display: none;\n",
              "      fill: #1967D2;\n",
              "      height: 32px;\n",
              "      padding: 0 0 0 0;\n",
              "      width: 32px;\n",
              "    }\n",
              "\n",
              "    .colab-df-convert:hover {\n",
              "      background-color: #E2EBFA;\n",
              "      box-shadow: 0px 1px 2px rgba(60, 64, 67, 0.3), 0px 1px 3px 1px rgba(60, 64, 67, 0.15);\n",
              "      fill: #174EA6;\n",
              "    }\n",
              "\n",
              "    [theme=dark] .colab-df-convert {\n",
              "      background-color: #3B4455;\n",
              "      fill: #D2E3FC;\n",
              "    }\n",
              "\n",
              "    [theme=dark] .colab-df-convert:hover {\n",
              "      background-color: #434B5C;\n",
              "      box-shadow: 0px 1px 3px 1px rgba(0, 0, 0, 0.15);\n",
              "      filter: drop-shadow(0px 1px 2px rgba(0, 0, 0, 0.3));\n",
              "      fill: #FFFFFF;\n",
              "    }\n",
              "  </style>\n",
              "\n",
              "      <script>\n",
              "        const buttonEl =\n",
              "          document.querySelector('#df-0ded7166-281f-4c74-804d-3e450e3d9d45 button.colab-df-convert');\n",
              "        buttonEl.style.display =\n",
              "          google.colab.kernel.accessAllowed ? 'block' : 'none';\n",
              "\n",
              "        async function convertToInteractive(key) {\n",
              "          const element = document.querySelector('#df-0ded7166-281f-4c74-804d-3e450e3d9d45');\n",
              "          const dataTable =\n",
              "            await google.colab.kernel.invokeFunction('convertToInteractive',\n",
              "                                                     [key], {});\n",
              "          if (!dataTable) return;\n",
              "\n",
              "          const docLinkHtml = 'Like what you see? Visit the ' +\n",
              "            '<a target=\"_blank\" href=https://colab.research.google.com/notebooks/data_table.ipynb>data table notebook</a>'\n",
              "            + ' to learn more about interactive tables.';\n",
              "          element.innerHTML = '';\n",
              "          dataTable['output_type'] = 'display_data';\n",
              "          await google.colab.output.renderOutput(dataTable, element);\n",
              "          const docLink = document.createElement('div');\n",
              "          docLink.innerHTML = docLinkHtml;\n",
              "          element.appendChild(docLink);\n",
              "        }\n",
              "      </script>\n",
              "    </div>\n",
              "  </div>\n",
              "  "
            ],
            "text/plain": [
              "     scores  score_count  score_%\n",
              "0  positive         1324     28.1\n",
              "1   neutral         2792     59.4\n",
              "2  negative          588     12.5"
            ]
          },
          "metadata": {},
          "execution_count": 124
        }
      ]
    },
    {
      "cell_type": "markdown",
      "source": [
        "#Tokeniztion, Padding & Encoding"
      ],
      "metadata": {
        "id": "THm12bZzPjGN"
      }
    },
    {
      "cell_type": "code",
      "source": [
        "# Performing Tokenization\n",
        "max_num_words = 10000 # Max number of the most frequents words to be used\n",
        "max_len = 1000 # Max number of words in each title\n",
        "embedding_dim = 100\n",
        "\n",
        "tokenizer = Tokenizer(num_words=max_num_words, filters='!\"#$%&()*+,-./:;<=>?@[\\]^_`{|}~', lower=True)\n",
        "tokenizer.fit_on_texts(df['title'].values)"
      ],
      "metadata": {
        "id": "CUXtr8LFOzaM"
      },
      "execution_count": 108,
      "outputs": []
    },
    {
      "cell_type": "code",
      "source": [
        "# Padding title to make them have equal length\n",
        "x = tokenizer.texts_to_sequences(df['title'].values)\n",
        "x = pad_sequences(x, maxlen=max_len)"
      ],
      "metadata": {
        "id": "Ws7P8iItOzXm"
      },
      "execution_count": 109,
      "outputs": []
    },
    {
      "cell_type": "code",
      "source": [
        "# Performing OneHot Encoding of Stars\n",
        "y = pd.get_dummies(data=df[['sent']], columns=['sent']).values\n",
        "print('Shape of label tensor:', y.shape)"
      ],
      "metadata": {
        "colab": {
          "base_uri": "https://localhost:8080/"
        },
        "id": "qRtd74MTOzVE",
        "outputId": "2ad49848-a38f-4021-db16-3d643d7518e2"
      },
      "execution_count": 184,
      "outputs": [
        {
          "output_type": "stream",
          "name": "stdout",
          "text": [
            "Shape of label tensor: (4761, 3)\n"
          ]
        }
      ]
    },
    {
      "cell_type": "markdown",
      "source": [
        "#Train & Test Split"
      ],
      "metadata": {
        "id": "uwZDZbTy20i-"
      }
    },
    {
      "cell_type": "code",
      "source": [
        "# Splitting dataset into Train and Test datasets in 80:20\n",
        "x_train, x_test, y_train, y_test = train_test_split(x,y, test_size = 0.20,random_state = 200)\n",
        "print(x_train.shape,y_train.shape)\n",
        "print(x_test.shape,y_test.shape)"
      ],
      "metadata": {
        "colab": {
          "base_uri": "https://localhost:8080/"
        },
        "id": "HzN1nEesOzSo",
        "outputId": "c65dd57f-2e3c-46c1-956c-f3620d29544d"
      },
      "execution_count": 113,
      "outputs": [
        {
          "output_type": "stream",
          "name": "stdout",
          "text": [
            "(1320, 1000) (1320, 3)\n",
            "(330, 1000) (330, 3)\n"
          ]
        }
      ]
    },
    {
      "cell_type": "markdown",
      "source": [
        "# LSTM"
      ],
      "metadata": {
        "id": "FvDQ_871SV4s"
      }
    },
    {
      "cell_type": "markdown",
      "source": [
        "18 Epochs, Acc 63.9%, Loss: 0.845 "
      ],
      "metadata": {
        "id": "RzZ9662jU2Pq"
      }
    },
    {
      "cell_type": "code",
      "source": [
        "# Enabling Google Colabs's TPU\n",
        "with tpu_strategy.scope():\n",
        "  # Building a GRU Model\n",
        "  model=Sequential()\n",
        "  model.add(Embedding(max_num_words, embedding_dim, input_length=max_len, trainable=False))\n",
        "  model.add(Bidirectional(LSTM(32)))\n",
        "  model.add(Dense(16, activation=\"relu\"))\n",
        "  model.add(Dense(3, activation=\"softmax\"))\n",
        "  model.compile(optimizer=\"Adam\", loss='categorical_crossentropy', metrics=['accuracy'])\n",
        " \n",
        "  epochs = 18\n",
        "  batch_size = 128\n",
        "  # Training a GRU model on Colab's TPU\n",
        "  LSTM_Model = model.fit(x_train, y_train, \n",
        "                         epochs=epochs, batch_size=batch_size,\n",
        "                         validation_split=0.1,\n",
        "                         callbacks=[EarlyStopping(monitor='val_loss', patience=3, min_delta=0.0001)])"
      ],
      "metadata": {
        "colab": {
          "base_uri": "https://localhost:8080/"
        },
        "id": "mUon-YLIQC8f",
        "outputId": "2f0b5f7e-4aed-4d7c-e57c-0cc5892e9119"
      },
      "execution_count": 115,
      "outputs": [
        {
          "output_type": "stream",
          "name": "stdout",
          "text": [
            "Epoch 1/18\n",
            "10/10 [==============================] - 14s 697ms/step - loss: 1.0993 - accuracy: 0.3274 - val_loss: 1.0985 - val_accuracy: 0.3409\n",
            "Epoch 2/18\n",
            "10/10 [==============================] - 2s 167ms/step - loss: 1.0973 - accuracy: 0.3603 - val_loss: 1.0967 - val_accuracy: 0.3106\n",
            "Epoch 3/18\n",
            "10/10 [==============================] - 2s 171ms/step - loss: 1.0949 - accuracy: 0.3687 - val_loss: 1.0951 - val_accuracy: 0.3485\n",
            "Epoch 4/18\n",
            "10/10 [==============================] - 2s 161ms/step - loss: 1.0908 - accuracy: 0.3998 - val_loss: 1.0906 - val_accuracy: 0.4242\n",
            "Epoch 5/18\n",
            "10/10 [==============================] - 2s 167ms/step - loss: 1.0843 - accuracy: 0.4503 - val_loss: 1.0841 - val_accuracy: 0.4697\n",
            "Epoch 6/18\n",
            "10/10 [==============================] - 2s 164ms/step - loss: 1.0774 - accuracy: 0.3872 - val_loss: 1.0773 - val_accuracy: 0.4167\n",
            "Epoch 7/18\n",
            "10/10 [==============================] - 2s 173ms/step - loss: 1.0626 - accuracy: 0.4655 - val_loss: 1.0704 - val_accuracy: 0.4545\n",
            "Epoch 8/18\n",
            "10/10 [==============================] - 2s 173ms/step - loss: 1.0554 - accuracy: 0.4234 - val_loss: 1.0590 - val_accuracy: 0.4167\n",
            "Epoch 9/18\n",
            "10/10 [==============================] - 2s 168ms/step - loss: 1.0365 - accuracy: 0.4663 - val_loss: 1.0398 - val_accuracy: 0.4470\n",
            "Epoch 10/18\n",
            "10/10 [==============================] - 2s 166ms/step - loss: 1.0179 - accuracy: 0.4621 - val_loss: 1.0526 - val_accuracy: 0.3788\n",
            "Epoch 11/18\n",
            "10/10 [==============================] - 2s 171ms/step - loss: 1.0149 - accuracy: 0.4537 - val_loss: 1.0215 - val_accuracy: 0.4773\n",
            "Epoch 12/18\n",
            "10/10 [==============================] - 2s 170ms/step - loss: 1.0061 - accuracy: 0.4655 - val_loss: 1.0150 - val_accuracy: 0.4394\n",
            "Epoch 13/18\n",
            "10/10 [==============================] - 2s 170ms/step - loss: 0.9954 - accuracy: 0.4739 - val_loss: 1.0193 - val_accuracy: 0.4697\n",
            "Epoch 14/18\n",
            "10/10 [==============================] - 2s 166ms/step - loss: 0.9859 - accuracy: 0.4823 - val_loss: 1.0223 - val_accuracy: 0.4167\n",
            "Epoch 15/18\n",
            "10/10 [==============================] - 2s 170ms/step - loss: 0.9777 - accuracy: 0.4874 - val_loss: 1.0226 - val_accuracy: 0.4621\n"
          ]
        }
      ]
    },
    {
      "cell_type": "code",
      "source": [
        "plt.plot(LSTM_Model.history['loss'])\n",
        "plt.plot(LSTM_Model.history['val_loss'])\n",
        "plt.title('Loss vs Val Loss')\n",
        "plt.xlabel('Epoch')\n",
        "plt.legend(['Loss', 'Val Loss'], loc='upper right')\n",
        "plt.show()"
      ],
      "metadata": {
        "colab": {
          "base_uri": "https://localhost:8080/",
          "height": 295
        },
        "id": "njafWfxQQC55",
        "outputId": "241929cf-6c01-45b2-ebf1-21d7df75e849"
      },
      "execution_count": 50,
      "outputs": [
        {
          "output_type": "display_data",
          "data": {
            "image/png": "[encoded data removed]",
            "text/plain": [
              "<Figure size 432x288 with 1 Axes>"
            ]
          },
          "metadata": {
            "needs_background": "light"
          }
        }
      ]
    },
    {
      "cell_type": "code",
      "source": [
        "plt.plot(LSTM_Model.history['accuracy'])\n",
        "plt.plot(LSTM_Model.history['val_accuracy'])\n",
        "plt.title('Accuracy vs Val Accuracy')\n",
        "plt.xlabel('Epoch')\n",
        "plt.legend(['Accuracy', 'Val Accuracy'], loc='upper right')\n",
        "plt.show()"
      ],
      "metadata": {
        "colab": {
          "base_uri": "https://localhost:8080/",
          "height": 295
        },
        "id": "iu0pe0yAQC3k",
        "outputId": "47925746-c657-49a7-bab8-5fe3d03b911f"
      },
      "execution_count": 51,
      "outputs": [
        {
          "output_type": "display_data",
          "data": {
            "image/png": "[encoded data removed]",
            "text/plain": [
              "<Figure size 432x288 with 1 Axes>"
            ]
          },
          "metadata": {
            "needs_background": "light"
          }
        }
      ]
    },
    {
      "cell_type": "code",
      "source": [
        "plt.plot(LSTM_Model.history['loss'])\n",
        "plt.plot(LSTM_Model.history['accuracy'])\n",
        "plt.title('Loss vs Accuracy')\n",
        "plt.xlabel('Epoch')\n",
        "plt.legend(['Loss', 'Accuracy'], loc='upper right')\n",
        "plt.show()"
      ],
      "metadata": {
        "colab": {
          "base_uri": "https://localhost:8080/",
          "height": 295
        },
        "id": "rHaYdr9uQC1D",
        "outputId": "ee539580-e074-42ad-8a18-b8d56c26119d"
      },
      "execution_count": 52,
      "outputs": [
        {
          "output_type": "display_data",
          "data": {
            "image/png": "[encoded data removed]",
            "text/plain": [
              "<Figure size 432x288 with 1 Axes>"
            ]
          },
          "metadata": {
            "needs_background": "light"
          }
        }
      ]
    },
    {
      "cell_type": "code",
      "source": [
        "plt.plot(LSTM_Model.history['val_loss'])\n",
        "plt.plot(LSTM_Model.history['val_accuracy'])\n",
        "plt.title('Val Loss vs Val Accuracy')\n",
        "plt.xlabel('Epoch')\n",
        "plt.legend(['Val Loss', 'Val Accuracy'], loc='upper right')\n",
        "plt.show()"
      ],
      "metadata": {
        "colab": {
          "base_uri": "https://localhost:8080/",
          "height": 295
        },
        "id": "osNtTdFuQM9d",
        "outputId": "e181f6fc-e2a6-49e4-e5d5-c9339ded88dd"
      },
      "execution_count": 53,
      "outputs": [
        {
          "output_type": "display_data",
          "data": {
            "image/png": "[encoded data removed]",
            "text/plain": [
              "<Figure size 432x288 with 1 Axes>"
            ]
          },
          "metadata": {
            "needs_background": "light"
          }
        }
      ]
    },
    {
      "cell_type": "code",
      "source": [
        "# Evaluting model on Test Set\n",
        "test = model.evaluate(x_test,y_test)\n",
        "print('For Test Set\\n  Loss: {:0.3f}\\n  Accuracy: {:0.3f}'.format(test[0], test[1]))"
      ],
      "metadata": {
        "colab": {
          "base_uri": "https://localhost:8080/"
        },
        "id": "Q19_rZFoQM66",
        "outputId": "5d0127d8-9148-4fd7-e03c-db90d2e94adf"
      },
      "execution_count": 54,
      "outputs": [
        {
          "output_type": "stream",
          "name": "stdout",
          "text": [
            "30/30 [==============================] - 2s 39ms/step - loss: 0.8451 - accuracy: 0.6388\n",
            "For Test Set\n",
            "  Loss: 0.845\n",
            "  Accuracy: 0.639\n"
          ]
        }
      ]
    },
    {
      "cell_type": "code",
      "source": [
        "model_path = '/content/LSTM_l.845_AC.639_18Epochs.h5'\n",
        "model.save(model_path)"
      ],
      "metadata": {
        "id": "zAi5COGEQM14"
      },
      "execution_count": 77,
      "outputs": []
    },
    {
      "cell_type": "code",
      "source": [
        "tf.keras.utils.plot_model(model)"
      ],
      "metadata": {
        "colab": {
          "base_uri": "https://localhost:8080/",
          "height": 466
        },
        "id": "VgFwqy_GQMus",
        "outputId": "ab6d17f5-ef00-412e-f4d7-556579a193bd"
      },
      "execution_count": 56,
      "outputs": [
        {
          "output_type": "execute_result",
          "data": {
            "image/png": "[encoded data removed]",
            "text/plain": [
              "<IPython.core.display.Image object>"
            ]
          },
          "metadata": {},
          "execution_count": 56
        }
      ]
    },
    {
      "cell_type": "markdown",
      "source": [
        "#GRU"
      ],
      "metadata": {
        "id": "txUwdIA8SlhL"
      }
    },
    {
      "cell_type": "markdown",
      "source": [
        "23 Epochs, Acc 63.4%, Loss 0.838"
      ],
      "metadata": {
        "id": "7NTirdIcUsHI"
      }
    },
    {
      "cell_type": "code",
      "source": [
        "# Enabling Google Colabs's TPU\n",
        "with tpu_strategy.scope():\n",
        "  # Building a GRU Model\n",
        "  model=Sequential()\n",
        "  model.add(Embedding(max_num_words, embedding_dim, input_length=max_len, trainable=False))\n",
        "  model.add(Bidirectional(GRU(32)))\n",
        "  model.add(Dense(16, activation=\"relu\"))\n",
        "  model.add(Dense(3, activation=\"softmax\"))\n",
        "  model.compile(optimizer=\"Adam\", loss='categorical_crossentropy', metrics=['accuracy'])\n",
        " \n",
        "  epochs = 50\n",
        "  batch_size = 128\n",
        "  # Training a GRU model on Colab's TPU\n",
        "  GRU_Model = model.fit(x_train, y_train, \n",
        "                        epochs=epochs, batch_size=batch_size,\n",
        "                        validation_split=0.1,\n",
        "                        callbacks=[EarlyStopping(monitor='val_loss', patience=3, min_delta=0.0001)])"
      ],
      "metadata": {
        "colab": {
          "base_uri": "https://localhost:8080/"
        },
        "id": "oc8bfVNzSlJd",
        "outputId": "1a7fd3f5-93ac-4f50-f3ae-80d8935d8b7a"
      },
      "execution_count": 59,
      "outputs": [
        {
          "output_type": "stream",
          "name": "stdout",
          "text": [
            "Epoch 1/50\n",
            "27/27 [==============================] - 17s 292ms/step - loss: 1.0325 - accuracy: 0.5863 - val_loss: 0.9464 - val_accuracy: 0.6057\n",
            "Epoch 2/50\n",
            "27/27 [==============================] - 3s 123ms/step - loss: 0.9260 - accuracy: 0.5985 - val_loss: 0.9241 - val_accuracy: 0.6057\n",
            "Epoch 3/50\n",
            "27/27 [==============================] - 3s 124ms/step - loss: 0.9147 - accuracy: 0.5985 - val_loss: 0.9157 - val_accuracy: 0.6057\n",
            "Epoch 4/50\n",
            "27/27 [==============================] - 3s 125ms/step - loss: 0.9102 - accuracy: 0.5985 - val_loss: 0.9034 - val_accuracy: 0.6057\n",
            "Epoch 5/50\n",
            "27/27 [==============================] - 3s 123ms/step - loss: 0.8944 - accuracy: 0.5988 - val_loss: 0.8779 - val_accuracy: 0.6057\n",
            "Epoch 6/50\n",
            "27/27 [==============================] - 3s 125ms/step - loss: 0.8735 - accuracy: 0.6113 - val_loss: 0.8611 - val_accuracy: 0.6292\n",
            "Epoch 7/50\n",
            "27/27 [==============================] - 3s 124ms/step - loss: 0.8567 - accuracy: 0.6353 - val_loss: 0.8375 - val_accuracy: 0.6423\n",
            "Epoch 8/50\n",
            "27/27 [==============================] - 3s 123ms/step - loss: 0.8417 - accuracy: 0.6406 - val_loss: 0.8210 - val_accuracy: 0.6501\n",
            "Epoch 9/50\n",
            "27/27 [==============================] - 3s 125ms/step - loss: 0.8352 - accuracy: 0.6440 - val_loss: 0.8173 - val_accuracy: 0.6527\n",
            "Epoch 10/50\n",
            "27/27 [==============================] - 3s 125ms/step - loss: 0.8241 - accuracy: 0.6475 - val_loss: 0.8035 - val_accuracy: 0.6632\n",
            "Epoch 11/50\n",
            "27/27 [==============================] - 3s 122ms/step - loss: 0.8232 - accuracy: 0.6487 - val_loss: 0.7982 - val_accuracy: 0.6658\n",
            "Epoch 12/50\n",
            "27/27 [==============================] - 3s 125ms/step - loss: 0.8116 - accuracy: 0.6496 - val_loss: 0.7923 - val_accuracy: 0.6684\n",
            "Epoch 13/50\n",
            "27/27 [==============================] - 3s 123ms/step - loss: 0.8022 - accuracy: 0.6519 - val_loss: 0.7881 - val_accuracy: 0.6658\n",
            "Epoch 14/50\n",
            "27/27 [==============================] - 4s 152ms/step - loss: 0.7997 - accuracy: 0.6542 - val_loss: 0.7861 - val_accuracy: 0.6606\n",
            "Epoch 15/50\n",
            "27/27 [==============================] - 3s 123ms/step - loss: 0.7971 - accuracy: 0.6516 - val_loss: 0.7862 - val_accuracy: 0.6684\n",
            "Epoch 16/50\n",
            "27/27 [==============================] - 3s 124ms/step - loss: 0.7908 - accuracy: 0.6562 - val_loss: 0.7837 - val_accuracy: 0.6684\n",
            "Epoch 17/50\n",
            "27/27 [==============================] - 3s 125ms/step - loss: 0.7869 - accuracy: 0.6583 - val_loss: 0.7790 - val_accuracy: 0.6684\n",
            "Epoch 18/50\n",
            "27/27 [==============================] - 3s 126ms/step - loss: 0.7866 - accuracy: 0.6542 - val_loss: 0.8108 - val_accuracy: 0.6580\n",
            "Epoch 19/50\n",
            "27/27 [==============================] - 4s 168ms/step - loss: 0.7915 - accuracy: 0.6554 - val_loss: 0.7799 - val_accuracy: 0.6580\n",
            "Epoch 20/50\n",
            "27/27 [==============================] - 4s 134ms/step - loss: 0.7779 - accuracy: 0.6600 - val_loss: 0.7748 - val_accuracy: 0.6606\n",
            "Epoch 21/50\n",
            "27/27 [==============================] - 3s 124ms/step - loss: 0.7779 - accuracy: 0.6612 - val_loss: 0.7763 - val_accuracy: 0.6527\n",
            "Epoch 22/50\n",
            "27/27 [==============================] - 3s 124ms/step - loss: 0.7714 - accuracy: 0.6606 - val_loss: 0.7774 - val_accuracy: 0.6580\n",
            "Epoch 23/50\n",
            "27/27 [==============================] - 3s 124ms/step - loss: 0.7710 - accuracy: 0.6670 - val_loss: 0.7814 - val_accuracy: 0.6527\n"
          ]
        }
      ]
    },
    {
      "cell_type": "code",
      "source": [
        "plt.plot(GRU_Model.history['loss'])\n",
        "plt.plot(GRU_Model.history['val_loss'])\n",
        "plt.title('Loss vs Val Loss')\n",
        "plt.xlabel('Epoch')\n",
        "plt.legend(['Loss', 'Val Loss'], loc='upper right')\n",
        "plt.show()"
      ],
      "metadata": {
        "colab": {
          "base_uri": "https://localhost:8080/",
          "height": 295
        },
        "id": "198abI7DSkD6",
        "outputId": "31459975-280e-4da2-cbea-b739ba3bb036"
      },
      "execution_count": 60,
      "outputs": [
        {
          "output_type": "display_data",
          "data": {
            "image/png": "[encoded data removed]",
            "text/plain": [
              "<Figure size 432x288 with 1 Axes>"
            ]
          },
          "metadata": {
            "needs_background": "light"
          }
        }
      ]
    },
    {
      "cell_type": "code",
      "source": [
        "plt.plot(GRU_Model.history['accuracy'])\n",
        "plt.plot(GRU_Model.history['val_accuracy'])\n",
        "plt.title('Accuracy vs Val Accuracy')\n",
        "plt.xlabel('Epoch')\n",
        "plt.legend(['Accuracy', 'Val Accuracy'], loc='lower right')\n",
        "plt.show()"
      ],
      "metadata": {
        "colab": {
          "base_uri": "https://localhost:8080/",
          "height": 295
        },
        "id": "A3OA9BmmTA14",
        "outputId": "96236e81-da2a-41c5-eff5-db1ab33000fc"
      },
      "execution_count": 62,
      "outputs": [
        {
          "output_type": "display_data",
          "data": {
            "image/png": "[encoded data removed]",
            "text/plain": [
              "<Figure size 432x288 with 1 Axes>"
            ]
          },
          "metadata": {
            "needs_background": "light"
          }
        }
      ]
    },
    {
      "cell_type": "code",
      "source": [
        "plt.plot(GRU_Model.history['loss'])\n",
        "plt.plot(GRU_Model.history['accuracy'])\n",
        "plt.title('Loss vs Accuracy')\n",
        "plt.xlabel('Epoch')\n",
        "plt.legend(['Loss', 'Accuracy'], loc='upper right')\n",
        "plt.show()"
      ],
      "metadata": {
        "colab": {
          "base_uri": "https://localhost:8080/",
          "height": 295
        },
        "id": "H3_l-qruTAzd",
        "outputId": "28bcc160-7909-4026-9db7-7728ec4625dc"
      },
      "execution_count": 63,
      "outputs": [
        {
          "output_type": "display_data",
          "data": {
            "image/png": "[encoded data removed]",
            "text/plain": [
              "<Figure size 432x288 with 1 Axes>"
            ]
          },
          "metadata": {
            "needs_background": "light"
          }
        }
      ]
    },
    {
      "cell_type": "code",
      "source": [
        "plt.plot(GRU_Model.history['val_loss'])\n",
        "plt.plot(GRU_Model.history['val_accuracy'])\n",
        "plt.title('Val Loss vs Val Accuracy')\n",
        "plt.xlabel('Epoch')\n",
        "plt.legend(['Val Loss', 'Val Accuracy'], loc='upper right')\n",
        "plt.show()"
      ],
      "metadata": {
        "colab": {
          "base_uri": "https://localhost:8080/",
          "height": 295
        },
        "id": "RgGb0SquTAxK",
        "outputId": "b9c4f48f-15a3-4586-bf57-5241b356a41e"
      },
      "execution_count": 64,
      "outputs": [
        {
          "output_type": "display_data",
          "data": {
            "image/png": "[encoded data removed]",
            "text/plain": [
              "<Figure size 432x288 with 1 Axes>"
            ]
          },
          "metadata": {
            "needs_background": "light"
          }
        }
      ]
    },
    {
      "cell_type": "code",
      "source": [
        "# Evaluting model on Test Set\n",
        "test = model.evaluate(x_test,y_test)\n",
        "print('For Test Set\\n  Loss: {:0.3f}\\n  Accuracy: {:0.3f}'.format(test[0], test[1]))"
      ],
      "metadata": {
        "colab": {
          "base_uri": "https://localhost:8080/"
        },
        "id": "uFIcCo7ATAud",
        "outputId": "b10c962b-f456-4f23-fa4a-dc2204aff07a"
      },
      "execution_count": 65,
      "outputs": [
        {
          "output_type": "stream",
          "name": "stdout",
          "text": [
            "30/30 [==============================] - 3s 48ms/step - loss: 0.8383 - accuracy: 0.6336\n",
            "For Test Set\n",
            "  Loss: 0.838\n",
            "  Accuracy: 0.634\n"
          ]
        }
      ]
    },
    {
      "cell_type": "code",
      "source": [
        "model_path = '/content/GRU_l.838_AC.634_23Epochs.h5'\n",
        "model.save(model_path)"
      ],
      "metadata": {
        "id": "s7FSQmc0TAsB"
      },
      "execution_count": 69,
      "outputs": []
    },
    {
      "cell_type": "code",
      "source": [
        "loaded_model = tf.keras.models.load_model(model_path)"
      ],
      "metadata": {
        "id": "2eyXPtB3UBID"
      },
      "execution_count": 70,
      "outputs": []
    },
    {
      "cell_type": "code",
      "source": [
        "tf.keras.utils.plot_model(loaded_model)"
      ],
      "metadata": {
        "colab": {
          "base_uri": "https://localhost:8080/",
          "height": 466
        },
        "id": "9meLFN8ETApb",
        "outputId": "30b6daf6-cc54-48b8-c157-174ab53981c9"
      },
      "execution_count": 75,
      "outputs": [
        {
          "output_type": "execute_result",
          "data": {
            "image/png": "[encoded data removed]",
            "text/plain": [
              "<IPython.core.display.Image object>"
            ]
          },
          "metadata": {},
          "execution_count": 75
        }
      ]
    },
    {
      "cell_type": "markdown",
      "source": [
        "# Bert Sentimental Analysis"
      ],
      "metadata": {
        "id": "w-cI9roRVQ2S"
      }
    },
    {
      "cell_type": "code",
      "source": [
        "from transformers import pipeline "
      ],
      "metadata": {
        "id": "gNvP9FEpVQig"
      },
      "execution_count": 83,
      "outputs": []
    },
    {
      "cell_type": "code",
      "source": [
        "#default model\n",
        "classifier = pipeline(\"sentiment-analysis\")"
      ],
      "metadata": {
        "colab": {
          "base_uri": "https://localhost:8080/"
        },
        "id": "3csl900HVosU",
        "outputId": "4eeaeee1-6031-4834-94fa-646db761a917"
      },
      "execution_count": 87,
      "outputs": [
        {
          "output_type": "stream",
          "name": "stderr",
          "text": [
            "No model was supplied, defaulted to distilbert-base-uncased-finetuned-sst-2-english (https://huggingface.co/distilbert-base-uncased-finetuned-sst-2-english)\n"
          ]
        }
      ]
    },
    {
      "cell_type": "code",
      "source": [
        "#500 character max\n",
        "df1 = data['title'].tolist()\n",
        "for i in range (len(df1)):\n",
        "    if len(df1[i])>500:\n",
        "      df1[i] = df1[i][:500]"
      ],
      "metadata": {
        "id": "Up199o7nVjwQ"
      },
      "execution_count": 140,
      "outputs": []
    },
    {
      "cell_type": "code",
      "source": [
        "res_lab = []\n",
        "res_score=[]\n",
        "\n",
        "_ = classifier(df1) \n",
        "\n",
        "for i in range (len(df1)):\n",
        "    if _[i]['label'] == 'POSITIVE':       res_lab.append('positive')\n",
        "    elif _[i]['label'] == 'NEGATIVE':     res_lab.append('negative')\n",
        "    else:  _.append('neutral')\n",
        "  # get score\n",
        "    res_score.append(_[i]['score'])"
      ],
      "metadata": {
        "id": "04ThI9cCVjuL"
      },
      "execution_count": 143,
      "outputs": []
    },
    {
      "cell_type": "code",
      "source": [
        "s = pd.DataFrame({'sent_label':res_lab,'sent_score':res_score})"
      ],
      "metadata": {
        "id": "1iB8zKOHVjpT"
      },
      "execution_count": 145,
      "outputs": []
    },
    {
      "cell_type": "code",
      "source": [
        "df1=pd.concat([data, s], axis=1)"
      ],
      "metadata": {
        "id": "Lagu8RhvVjnT"
      },
      "execution_count": 148,
      "outputs": []
    },
    {
      "cell_type": "code",
      "source": [
        "df1[\"sent_res\"] = (df1['sent']==df1['sent_label'])"
      ],
      "metadata": {
        "id": "XtDQXNw-Vjic"
      },
      "execution_count": 150,
      "outputs": []
    },
    {
      "cell_type": "code",
      "source": [
        "((df1['sent_res'].value_counts().loc[True])/(df1['sent_res'].shape[0])).round(3)"
      ],
      "metadata": {
        "colab": {
          "base_uri": "https://localhost:8080/"
        },
        "id": "XL-9uWDEnC6r",
        "outputId": "5e7110c2-0bf6-4224-f254-2d9ab71dc11c"
      },
      "execution_count": 151,
      "outputs": [
        {
          "output_type": "execute_result",
          "data": {
            "text/plain": [
              "0.231"
            ]
          },
          "metadata": {},
          "execution_count": 151
        }
      ]
    },
    {
      "cell_type": "markdown",
      "source": [
        "# BERT Fine Tuning"
      ],
      "metadata": {
        "id": "H4WPJC6onfg2"
      }
    },
    {
      "cell_type": "code",
      "source": [
        "# Setting different model parameters\n",
        "num_class = 3\n",
        "max_length = 512\n",
        "test_df_size = 0.2\n",
        "eval_df_size = 0.1\n",
        "batch_size = 128\n",
        "epochs = 3"
      ],
      "metadata": {
        "id": "vai82ryhnlt1"
      },
      "execution_count": 8,
      "outputs": []
    },
    {
      "cell_type": "code",
      "source": [
        "# Function for cleaning Punctuation/Special Characters\n",
        "def clean_Punc(sentence): \n",
        "    cleaned = re.sub(r'[?|!|\\'|\"|#]',r'',sentence)\n",
        "    cleaned = re.sub(r'[,|)|(|\\|/]',r' ',cleaned)\n",
        "    cleaned = cleaned.strip()\n",
        "    cleaned = cleaned.replace(\"\\n\",\" \")\n",
        "    return cleaned\n",
        "\n",
        "data['title'] = data['title'].apply(clean_Punc)\n",
        "\n",
        "train_df, test_df = train_test_split(data, test_size = test_df_size, random_state = 200)\n",
        "train_df, eval_df = train_test_split(train_df, test_size = eval_df_size, random_state = 200)"
      ],
      "metadata": {
        "id": "1OUuJgiynlrd"
      },
      "execution_count": 9,
      "outputs": []
    },
    {
      "cell_type": "code",
      "source": [
        "# Initializing BERT Tokenizer\n",
        "model_name = \"bert-base-cased\"\n",
        "tokenizer = BertTokenizer.from_pretrained(model_name)"
      ],
      "metadata": {
        "id": "V78nTb7enlpA"
      },
      "execution_count": 10,
      "outputs": []
    },
    {
      "cell_type": "code",
      "source": [
        "# Function to encode whole dataset\n",
        "# This function also pads or truncates each dataset observation (review) to make all observation have length equal to max_length\n",
        "def bert_encode(data):\n",
        "    tokens = tokenizer.batch_encode_plus(data, max_length=max_length, padding=\"max_length\", truncation=True)\n",
        "    return tf.constant(tokens[\"input_ids\"])\n",
        "\n",
        "# Encoding both the train and eval datasets\n",
        "train_encoded = bert_encode(train_df.title)\n",
        "eval_encoded = bert_encode(eval_df.title)"
      ],
      "metadata": {
        "id": "ZDj_EZ7nnlmp"
      },
      "execution_count": 11,
      "outputs": []
    },
    {
      "cell_type": "code",
      "source": [
        "# One-Hot encoding the labels (sent)\n",
        "#train_labels = y = pd.get_dummies(data=df[['sent']], columns=['sent']).values\n",
        "#eval_labels = tf.keras.utils.to_categorical(eval_df['sent'].values, num_classes=num_class)\n",
        "train_labels =pd.get_dummies(data=train_df[['sent']], columns=['sent']).values\n",
        "eval_labels = pd.get_dummies(data=eval_df[['sent']], columns=['sent']).values\n",
        "# Building our final train and dev dataset with encoded text and encoded labels\n",
        "train_dataset = (tf.data.Dataset.from_tensor_slices((train_encoded, train_labels)).shuffle(100).batch(batch_size))\n",
        "eval_dataset = (tf.data.Dataset.from_tensor_slices((eval_encoded, eval_labels)).shuffle(100).batch(batch_size))"
      ],
      "metadata": {
        "id": "IOLfZE4HnlkI"
      },
      "execution_count": 12,
      "outputs": []
    },
    {
      "cell_type": "code",
      "source": [
        "# Defining our BERT classification model\n",
        "def bert_multi_class_classification_model():\n",
        "    bert_encoder = TFBertModel.from_pretrained(model_name, output_attentions=True)\n",
        "    input_word_ids = Input(shape=(max_length,), dtype=tf.int32, name=\"input_ids\")\n",
        "    last_hidden_states = bert_encoder(input_word_ids)[0]\n",
        "    clf_output = Flatten()(last_hidden_states)\n",
        "    net = Dense(512, activation=\"relu\")(clf_output)\n",
        "    net = Dropout(0.1)(net)\n",
        "    output = Dense(num_class, activation=\"softmax\")(net)\n",
        "    model = Model(inputs=input_word_ids, outputs=output)\n",
        "    return model"
      ],
      "metadata": {
        "id": "iVuAY6AFnlMo"
      },
      "execution_count": 13,
      "outputs": []
    },
    {
      "cell_type": "code",
      "source": [
        "with tpu_strategy.scope():\n",
        "    model = bert_multi_class_classification_model()\n",
        "    adam_optimizer = Adam(learning_rate=1e-5)\n",
        "    model.compile(loss=\"categorical_crossentropy\", optimizer=adam_optimizer, metrics=[\"accuracy\"])\n",
        "    model.summary()"
      ],
      "metadata": {
        "colab": {
          "base_uri": "https://localhost:8080/"
        },
        "id": "3oD4MaMPpzAw",
        "outputId": "8e56e8e1-28ea-4dde-a353-8398a3feb535"
      },
      "execution_count": 14,
      "outputs": [
        {
          "output_type": "stream",
          "name": "stderr",
          "text": [
            "Some layers from the model checkpoint at bert-base-cased were not used when initializing TFBertModel: ['mlm___cls', 'nsp___cls']\n",
            "- This IS expected if you are initializing TFBertModel from the checkpoint of a model trained on another task or with another architecture (e.g. initializing a BertForSequenceClassification model from a BertForPreTraining model).\n",
            "- This IS NOT expected if you are initializing TFBertModel from the checkpoint of a model that you expect to be exactly identical (initializing a BertForSequenceClassification model from a BertForSequenceClassification model).\n",
            "All the layers of TFBertModel were initialized from the model checkpoint at bert-base-cased.\n",
            "If your task is similar to the task the model of the checkpoint was trained on, you can already use TFBertModel for predictions without further training.\n"
          ]
        },
        {
          "output_type": "stream",
          "name": "stdout",
          "text": [
            "Model: \"model\"\n",
            "_________________________________________________________________\n",
            " Layer (type)                Output Shape              Param #   \n",
            "=================================================================\n",
            " input_ids (InputLayer)      [(None, 512)]             0         \n",
            "                                                                 \n",
            " tf_bert_model (TFBertModel)  TFBaseModelOutputWithPoo  108310272\n",
            "                             lingAndCrossAttentions(l            \n",
            "                             ast_hidden_state=(None,             \n",
            "                             512, 768),                          \n",
            "                              pooler_output=(None, 76            \n",
            "                             8),                                 \n",
            "                              past_key_values=None, h            \n",
            "                             idden_states=None, atten            \n",
            "                             tions=((None, 12, None,             \n",
            "                             512),                               \n",
            "                              (None, 12, None, 512),             \n",
            "                              (None, 12, None, 512),             \n",
            "                              (None, 12, None, 512),             \n",
            "                              (None, 12, None, 512),             \n",
            "                              (None, 12, None, 512),             \n",
            "                              (None, 12, None, 512),             \n",
            "                              (None, 12, None, 512),             \n",
            "                              (None, 12, None, 512),             \n",
            "                              (None, 12, None, 512),             \n",
            "                              (None, 12, None, 512),             \n",
            "                              (None, 12, None, 512)),            \n",
            "                              cross_attentions=None)             \n",
            "                                                                 \n",
            " flatten (Flatten)           (None, 393216)            0         \n",
            "                                                                 \n",
            " dense (Dense)               (None, 512)               201327104 \n",
            "                                                                 \n",
            " dropout_37 (Dropout)        (None, 512)               0         \n",
            "                                                                 \n",
            " dense_1 (Dense)             (None, 3)                 1539      \n",
            "                                                                 \n",
            "=================================================================\n",
            "Total params: 309,638,915\n",
            "Trainable params: 309,638,915\n",
            "Non-trainable params: 0\n",
            "_________________________________________________________________\n"
          ]
        }
      ]
    },
    {
      "cell_type": "code",
      "source": [
        "# Training our BERT model\n",
        "bert_model = model.fit(train_dataset, batch_size=batch_size, epochs=8, validation_data=eval_dataset, verbose=1)"
      ],
      "metadata": {
        "colab": {
          "base_uri": "https://localhost:8080/"
        },
        "id": "Sdu5GaFKp2Cq",
        "outputId": "a673ff16-1ffc-4970-8462-64833a0e834f"
      },
      "execution_count": 15,
      "outputs": [
        {
          "output_type": "stream",
          "name": "stdout",
          "text": [
            "Epoch 1/8\n",
            "WARNING:tensorflow:Gradients do not exist for variables ['tf_bert_model/bert/pooler/dense/kernel:0', 'tf_bert_model/bert/pooler/dense/bias:0'] when minimizing the loss. If you're using `model.compile()`, did you forget to provide a `loss`argument?\n"
          ]
        },
        {
          "output_type": "stream",
          "name": "stderr",
          "text": [
            "WARNING:tensorflow:Gradients do not exist for variables ['tf_bert_model/bert/pooler/dense/kernel:0', 'tf_bert_model/bert/pooler/dense/bias:0'] when minimizing the loss. If you're using `model.compile()`, did you forget to provide a `loss`argument?\n"
          ]
        },
        {
          "output_type": "stream",
          "name": "stdout",
          "text": [
            "WARNING:tensorflow:Gradients do not exist for variables ['tf_bert_model/bert/pooler/dense/kernel:0', 'tf_bert_model/bert/pooler/dense/bias:0'] when minimizing the loss. If you're using `model.compile()`, did you forget to provide a `loss`argument?\n"
          ]
        },
        {
          "output_type": "stream",
          "name": "stderr",
          "text": [
            "WARNING:tensorflow:Gradients do not exist for variables ['tf_bert_model/bert/pooler/dense/kernel:0', 'tf_bert_model/bert/pooler/dense/bias:0'] when minimizing the loss. If you're using `model.compile()`, did you forget to provide a `loss`argument?\n"
          ]
        },
        {
          "output_type": "stream",
          "name": "stdout",
          "text": [
            "27/27 [==============================] - 176s 3s/step - loss: 1.7522 - accuracy: 0.5151 - val_loss: 0.9239 - val_accuracy: 0.5958\n",
            "Epoch 2/8\n",
            "27/27 [==============================] - 16s 602ms/step - loss: 0.9117 - accuracy: 0.5954 - val_loss: 0.8967 - val_accuracy: 0.6142\n",
            "Epoch 3/8\n",
            "27/27 [==============================] - 17s 633ms/step - loss: 0.8633 - accuracy: 0.6273 - val_loss: 0.8539 - val_accuracy: 0.6430\n",
            "Epoch 4/8\n",
            "27/27 [==============================] - 16s 603ms/step - loss: 0.8045 - accuracy: 0.6536 - val_loss: 0.7981 - val_accuracy: 0.6693\n",
            "Epoch 5/8\n",
            "27/27 [==============================] - 16s 606ms/step - loss: 0.6872 - accuracy: 0.7059 - val_loss: 0.5148 - val_accuracy: 0.8005\n",
            "Epoch 6/8\n",
            "27/27 [==============================] - 16s 601ms/step - loss: 0.4389 - accuracy: 0.8226 - val_loss: 0.4372 - val_accuracy: 0.8294\n",
            "Epoch 7/8\n",
            "27/27 [==============================] - 16s 601ms/step - loss: 0.3405 - accuracy: 0.8647 - val_loss: 0.4137 - val_accuracy: 0.8373\n",
            "Epoch 8/8\n",
            "27/27 [==============================] - 16s 604ms/step - loss: 0.2487 - accuracy: 0.9079 - val_loss: 0.4431 - val_accuracy: 0.8504\n"
          ]
        }
      ]
    },
    {
      "cell_type": "code",
      "source": [
        "plt.plot(bert_model.history[\"accuracy\"])\n",
        "plt.plot(bert_model.history[\"val_accuracy\"])\n",
        "plt.xlabel(\"Epochs\")\n",
        "plt.ylabel(\"accuracy\")\n",
        "plt.legend([\"accuracy\", \"val_accuracy\"])\n",
        "plt.show()"
      ],
      "metadata": {
        "colab": {
          "base_uri": "https://localhost:8080/",
          "height": 279
        },
        "id": "_UUyzMPxp2Ac",
        "outputId": "c1ae37f9-21eb-4203-a1f1-9c8207c1c64f"
      },
      "execution_count": 16,
      "outputs": [
        {
          "output_type": "display_data",
          "data": {
            "image/png": "[encoded data removed]",
            "text/plain": [
              "<Figure size 432x288 with 1 Axes>"
            ]
          },
          "metadata": {
            "needs_background": "light"
          }
        }
      ]
    },
    {
      "cell_type": "code",
      "source": [
        "plt.plot(bert_model.history[\"loss\"])\n",
        "plt.plot(bert_model.history[\"val_loss\"])\n",
        "plt.xlabel(\"Epochs\")\n",
        "plt.ylabel(\"loss\")\n",
        "plt.legend([\"loss\", \"val_loss\"])\n",
        "plt.show()"
      ],
      "metadata": {
        "colab": {
          "base_uri": "https://localhost:8080/",
          "height": 280
        },
        "id": "Dw-2VKF8p1-Z",
        "outputId": "2b1f7771-1962-4774-b64b-e4995ec4bdff"
      },
      "execution_count": 17,
      "outputs": [
        {
          "output_type": "display_data",
          "data": {
            "image/png": "[encoded data removed]",
            "text/plain": [
              "<Figure size 432x288 with 1 Axes>"
            ]
          },
          "metadata": {
            "needs_background": "light"
          }
        }
      ]
    },
    {
      "cell_type": "code",
      "source": [
        "plt.plot(bert_model.history['loss'])\n",
        "plt.plot(bert_model.history['accuracy'])\n",
        "plt.title('Loss vs Accuracy')\n",
        "plt.xlabel('Epoch')\n",
        "plt.legend(['Loss', 'Accuracy'], loc='upper right')\n",
        "plt.show()"
      ],
      "metadata": {
        "colab": {
          "base_uri": "https://localhost:8080/",
          "height": 295
        },
        "id": "dnDstNWcp14l",
        "outputId": "4bfaa2f2-637c-4cb6-8200-1fab41caf95a"
      },
      "execution_count": 18,
      "outputs": [
        {
          "output_type": "display_data",
          "data": {
            "image/png": "[encoded data removed]",
            "text/plain": [
              "<Figure size 432x288 with 1 Axes>"
            ]
          },
          "metadata": {
            "needs_background": "light"
          }
        }
      ]
    },
    {
      "cell_type": "code",
      "source": [
        "plt.plot(bert_model.history['val_loss'])\n",
        "plt.plot(bert_model.history['val_accuracy'])\n",
        "plt.title('Val Loss vs Val Accuracy')\n",
        "plt.xlabel('Epoch')\n",
        "plt.legend(['Val Loss', 'Val Accuracy'], loc='upper right')\n",
        "plt.show()"
      ],
      "metadata": {
        "colab": {
          "base_uri": "https://localhost:8080/",
          "height": 295
        },
        "id": "-9IhrMLXp1gR",
        "outputId": "94d1d829-801c-48f0-bd22-ae3fb40dd2db"
      },
      "execution_count": 19,
      "outputs": [
        {
          "output_type": "display_data",
          "data": {
            "image/png": "[encoded data removed]",
            "text/plain": [
              "<Figure size 432x288 with 1 Axes>"
            ]
          },
          "metadata": {
            "needs_background": "light"
          }
        }
      ]
    },
    {
      "cell_type": "code",
      "source": [
        "# Let's run our model on our test data set\n",
        "\n",
        "# Encoding test_df with bert encoder\n",
        "test_df['title'] = test_df['title'].astype(str)\n",
        "test_input_encoded = bert_encode(test_df['title'])\n",
        "\n",
        "# One-Hot encoding the labels (stars)\n",
        "test_labels = pd.get_dummies(data=test_df[['sent']], columns=['sent']).values"
      ],
      "metadata": {
        "id": "zPdtptdkp96C"
      },
      "execution_count": 21,
      "outputs": []
    },
    {
      "cell_type": "code",
      "source": [
        "# Evaluting model on test set\n",
        "test_scores = model.evaluate(test_input_encoded, test_labels, verbose=1)\n",
        "print(\"Test loss:\", test_scores[0])\n",
        "print(\"Test accuracy:\", test_scores[1])"
      ],
      "metadata": {
        "colab": {
          "base_uri": "https://localhost:8080/"
        },
        "id": "Hrem2ANDqBOc",
        "outputId": "9777d54e-e3c3-433d-d1f9-0eb0545d91f5"
      },
      "execution_count": 22,
      "outputs": [
        {
          "output_type": "stream",
          "name": "stdout",
          "text": [
            "30/30 [==============================] - 17s 310ms/step - loss: 0.4298 - accuracy: 0.8465\n",
            "Test loss: 0.4297701120376587\n",
            "Test accuracy: 0.8464773297309875\n"
          ]
        }
      ]
    },
    {
      "cell_type": "code",
      "source": [
        "model_path = '/content/BERT_l.430_AC84.6_8Epochs.h5'\n",
        "model.save(model_path)\n",
        "with tpu_strategy.scope():\n",
        "  loaded_model = tf.keras.models.load_model(model_path, custom_objects={'TFBertModel':TFBertModel})"
      ],
      "metadata": {
        "colab": {
          "base_uri": "https://localhost:8080/"
        },
        "id": "3jqZ7_wNEeKI",
        "outputId": "21575660-01bf-46fb-e8b5-a7c8a2cc1774"
      },
      "execution_count": 23,
      "outputs": [
        {
          "output_type": "stream",
          "name": "stdout",
          "text": [
            "WARNING:tensorflow:Error in loading the saved optimizer state. As a result, your model is starting with a freshly initialized optimizer.\n"
          ]
        },
        {
          "output_type": "stream",
          "name": "stderr",
          "text": [
            "WARNING:tensorflow:Error in loading the saved optimizer state. As a result, your model is starting with a freshly initialized optimizer.\n"
          ]
        }
      ]
    },
    {
      "cell_type": "code",
      "source": [
        "tf.keras.utils.plot_model(loaded_model)"
      ],
      "metadata": {
        "colab": {
          "base_uri": "https://localhost:8080/",
          "height": 564
        },
        "id": "DxCIVZQbEhni",
        "outputId": "75e7559c-fa53-4f29-9411-aca6b4293ad1"
      },
      "execution_count": 24,
      "outputs": [
        {
          "output_type": "execute_result",
          "data": {
            "image/png": "[encoded data removed]",
            "text/plain": [
              "<IPython.core.display.Image object>"
            ]
          },
          "metadata": {},
          "execution_count": 24
        }
      ]
    },
    {
      "cell_type": "code",
      "source": [
        ""
      ],
      "metadata": {
        "id": "4aAAiLOBEhYW"
      },
      "execution_count": null,
      "outputs": []
    }
  ]
}